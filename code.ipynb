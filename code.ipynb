{
 "cells": [
  {
   "cell_type": "markdown",
   "metadata": {},
   "source": [
    "# Initialization\n"
   ]
  },
  {
   "cell_type": "markdown",
   "metadata": {},
   "source": [
    "## Module Imports\n"
   ]
  },
  {
   "cell_type": "code",
   "execution_count": null,
   "metadata": {},
   "outputs": [],
   "source": [
    "import os\n",
    "import random\n",
    "import time\n",
    "import tracemalloc\n",
    "import warnings\n",
    "\n",
    "from typing import Callable\n",
    "\n",
    "import numpy as np\n",
    "from numpy.typing import NDArray\n",
    "\n",
    "import cv2\n",
    "import matplotlib.pyplot as plt\n",
    "import pandas as pd\n",
    "\n",
    "from scipy.spatial.distance import directed_hausdorff\n",
    "from sklearn.model_selection import ParameterGrid"
   ]
  },
  {
   "cell_type": "code",
   "execution_count": null,
   "metadata": {},
   "outputs": [],
   "source": [
    "from ellipse_detection.ellipse_detector import (\n",
    "    EllipseDetector as VFEllipseDetector,\n",
    ")\n",
    "\n",
    "from random_hough_ellipse_ori import (\n",
    "    EllipseDetector as RHTEllipseDetector,\n",
    "    EllipseDetectorInfo as RHTEllipseDetectorInfo,\n",
    ")\n",
    "\n",
    "from random_hough_ellipse_jit import compile_jit_functions, random_hough_ellipse"
   ]
  },
  {
   "cell_type": "markdown",
   "metadata": {},
   "source": [
    "## Loading Functions\n"
   ]
  },
  {
   "cell_type": "code",
   "execution_count": null,
   "metadata": {},
   "outputs": [],
   "source": [
    "def load_image_file(index: int, suffix: str) -> NDArray:\n",
    "    for i in range(20):\n",
    "        image = cv2.imread(f\"data/{index}_{i or ''}{suffix}.png\", cv2.IMREAD_GRAYSCALE)\n",
    "        if image is not None:\n",
    "            return image\n",
    "    raise FileNotFoundError(f\"{index} not found\")\n",
    "\n",
    "\n",
    "def load_image(index: int) -> NDArray:\n",
    "    return load_image_file(index, \"HC\")\n",
    "\n",
    "\n",
    "def load_mask(index: int) -> NDArray:\n",
    "    return load_image_file(index, \"HC_Annotation\")\n",
    "\n",
    "\n",
    "def load_image_mask(\n",
    "    index: int,\n",
    ") -> tuple[NDArray, NDArray]:\n",
    "    return load_image(index), load_mask(index)\n",
    "\n",
    "\n",
    "def load_images_masks(indices: list[int]) -> tuple[list[NDArray], list[NDArray]]:\n",
    "    images = [load_image(index) for index in indices]\n",
    "    masks = [load_mask(index) for index in indices]\n",
    "    return images, masks"
   ]
  },
  {
   "cell_type": "code",
   "execution_count": null,
   "metadata": {},
   "outputs": [],
   "source": [
    "def get_valid_indices() -> list[int]:\n",
    "    valid_indices = []\n",
    "    filenames = os.listdir(\"data\")\n",
    "    image_indices = list(\n",
    "        map(\n",
    "            lambda x: int(x.split(\"_\")[0]),\n",
    "            filter(lambda x: x.endswith(\"HC.png\"), filenames),\n",
    "        )\n",
    "    )\n",
    "    mask_indices = list(\n",
    "        map(\n",
    "            lambda x: int(x.split(\"_\")[0]),\n",
    "            filter(lambda x: x.endswith(\"HC_Annotation.png\"), filenames),\n",
    "        )\n",
    "    )\n",
    "    for i in range(1, 1000):\n",
    "        if i in image_indices and i in mask_indices:\n",
    "            valid_indices.append(i)\n",
    "    return valid_indices"
   ]
  },
  {
   "cell_type": "code",
   "execution_count": null,
   "metadata": {},
   "outputs": [],
   "source": [
    "def get_truth_data() -> pd.DataFrame:\n",
    "    raw_truth_data = pd.read_csv(\"data.csv\")\n",
    "    truth_data = pd.DataFrame()\n",
    "    truth_data[\"index\"] = raw_truth_data[\"filename\"].str.split(\"_\").str[0].astype(int)\n",
    "    truth_data[\"pixel_size\"] = raw_truth_data[\"pixel size\"]\n",
    "    truth_data[\"circumference\"] = raw_truth_data[\"head circumference (mm)\"]\n",
    "    truth_data.set_index(\"index\", inplace=True)\n",
    "    return truth_data"
   ]
  },
  {
   "cell_type": "markdown",
   "metadata": {},
   "source": [
    "## Plotting Functions\n"
   ]
  },
  {
   "cell_type": "code",
   "execution_count": null,
   "metadata": {},
   "outputs": [],
   "source": [
    "def plot_multiple_images(\n",
    "    image_data: list[tuple[NDArray, str]] | list[NDArray], n_cols=6\n",
    "):\n",
    "    if not isinstance(image_data[0], tuple):\n",
    "        img_data = [(image, \"\") for image in image_data]\n",
    "    else:\n",
    "        img_data = image_data\n",
    "    n_rows = int(np.ceil(len(img_data) / n_cols))\n",
    "    fig, axes = plt.subplots(\n",
    "        n_rows, n_cols, figsize=(int(n_cols * 4.5), int(n_rows * 3))\n",
    "    )\n",
    "    axes = axes.flatten()\n",
    "    fig.tight_layout(pad=0)\n",
    "    fig.patch.set_facecolor(\"dimgray\")  # type: ignore\n",
    "    for ax in axes:\n",
    "        ax.axis(\"off\")\n",
    "    for i, (image, title) in enumerate(img_data):\n",
    "        axes[i].imshow(image, cmap=\"gray\")\n",
    "        axes[i].set_title(title)\n",
    "    plt.show()"
   ]
  },
  {
   "cell_type": "code",
   "execution_count": null,
   "metadata": {},
   "outputs": [],
   "source": [
    "def draw_ellipse(\n",
    "    image: NDArray,\n",
    "    center: tuple[float, float],\n",
    "    axes: tuple[float, float],\n",
    "    angle: float,\n",
    "    idx: int,\n",
    "):\n",
    "    cv2.ellipse(\n",
    "        image,\n",
    "        (int(center[0]), int(center[1])),\n",
    "        (int(axes[0]), int(axes[1])),\n",
    "        angle * 180 / np.pi,\n",
    "        0,\n",
    "        360,\n",
    "        color=(255 * (idx == 2), 255 * (idx == 0), 255 * (idx == 1)),\n",
    "        thickness=2 if idx == 0 else 1,\n",
    "    )"
   ]
  },
  {
   "cell_type": "markdown",
   "metadata": {},
   "source": [
    "## Data-related Functions\n"
   ]
  },
  {
   "cell_type": "code",
   "execution_count": null,
   "metadata": {},
   "outputs": [],
   "source": [
    "def create_border_mask(shape: tuple[int, int], border: int) -> NDArray[np.bool8]:\n",
    "    mask = np.zeros(shape, dtype=np.bool8)\n",
    "    mask[:border, :] = mask[-border:, :] = mask[:, :border] = mask[:, -border:] = 1\n",
    "    return mask\n",
    "\n",
    "\n",
    "def update_image_value(image: NDArray, mask: NDArray[np.bool8], value: int) -> NDArray:\n",
    "    new_image = image.copy()\n",
    "    new_image[mask] = value\n",
    "    return new_image\n",
    "\n",
    "\n",
    "def downscale_image(image: NDArray, scale: float = 0.5) -> NDArray:\n",
    "    return cv2.resize(image, (0, 0), fx=scale, fy=scale)\n",
    "\n",
    "\n",
    "def quantile(arr: NDArray | list, q: float) -> float:\n",
    "    return np.quantile(arr, q).item()"
   ]
  },
  {
   "cell_type": "markdown",
   "metadata": {},
   "source": [
    "# Exploration\n"
   ]
  },
  {
   "cell_type": "markdown",
   "metadata": {},
   "source": [
    "## Load and Sample\n"
   ]
  },
  {
   "cell_type": "code",
   "execution_count": null,
   "metadata": {},
   "outputs": [],
   "source": [
    "valid_indices = get_valid_indices()\n",
    "\n",
    "random.seed(1)\n",
    "sample_indices = random.choices(valid_indices, k=9)\n",
    "\n",
    "sample_images, sample_masks = load_images_masks(sample_indices)\n",
    "\n",
    "\n",
    "def plot_multiple_images_with_original(images: list[NDArray]):\n",
    "    plot_multiple_images([img for imgs in zip(sample_images, images) for img in imgs])"
   ]
  },
  {
   "cell_type": "markdown",
   "metadata": {},
   "source": [
    "## Simple Processing\n"
   ]
  },
  {
   "cell_type": "markdown",
   "metadata": {},
   "source": [
    "### Resize\n"
   ]
  },
  {
   "cell_type": "code",
   "execution_count": null,
   "metadata": {},
   "outputs": [],
   "source": [
    "resized_images = list(map(lambda x: downscale_image(x), sample_images))\n",
    "print(resized_images[0].shape)"
   ]
  },
  {
   "cell_type": "markdown",
   "metadata": {},
   "source": [
    "### Blur\n"
   ]
  },
  {
   "cell_type": "code",
   "execution_count": null,
   "metadata": {},
   "outputs": [],
   "source": [
    "blurred_images = list(map(lambda x: cv2.medianBlur(x, 11), resized_images))"
   ]
  },
  {
   "cell_type": "code",
   "execution_count": null,
   "metadata": {},
   "outputs": [],
   "source": [
    "# plot_multiple_images_with_original(blurred_images)"
   ]
  },
  {
   "cell_type": "markdown",
   "metadata": {},
   "source": [
    "## Edge Detection\n"
   ]
  },
  {
   "cell_type": "markdown",
   "metadata": {},
   "source": [
    "### Unused Edges\n"
   ]
  },
  {
   "cell_type": "code",
   "execution_count": null,
   "metadata": {},
   "outputs": [],
   "source": [
    "unused_edges = list(\n",
    "    map(\n",
    "        lambda x: (\n",
    "            cv2.dilate(\n",
    "                cv2.Canny(update_image_value(x, x != 0, 255), 1, 1, None, 3),\n",
    "                np.ones((3, 3), np.uint8),\n",
    "            )\n",
    "            == 255\n",
    "        )\n",
    "        | create_border_mask((x.shape[0], x.shape[1]), border=5),\n",
    "        blurred_images,\n",
    "    )\n",
    ")"
   ]
  },
  {
   "cell_type": "markdown",
   "metadata": {},
   "source": [
    "### Main Edges\n"
   ]
  },
  {
   "cell_type": "code",
   "execution_count": null,
   "metadata": {},
   "outputs": [],
   "source": [
    "main_edges = list(\n",
    "    map(\n",
    "        lambda x: update_image_value(\n",
    "            cv2.Canny(x[0], quantile(x[0], 0.9), quantile(x[0], 0.95), None, 3),\n",
    "            x[1],\n",
    "            0,\n",
    "        ),\n",
    "        zip(blurred_images, unused_edges),\n",
    "    )\n",
    ")"
   ]
  },
  {
   "cell_type": "code",
   "execution_count": null,
   "metadata": {},
   "outputs": [],
   "source": [
    "# plot_multiple_images_with_original(main_edges)"
   ]
  },
  {
   "cell_type": "markdown",
   "metadata": {},
   "source": [
    "## Ellipse Detection\n"
   ]
  },
  {
   "cell_type": "markdown",
   "metadata": {},
   "source": [
    "### Very Fast Ellipse Detection\n",
    "\n",
    "https://github.com/horiken4/ellipse-detection\n"
   ]
  },
  {
   "cell_type": "code",
   "execution_count": null,
   "metadata": {},
   "outputs": [],
   "source": [
    "def very_fast_ellipse_detection_and_draw(\n",
    "    image: NDArray, image_edge: NDArray | None = None\n",
    ") -> NDArray:\n",
    "    ellipse_detector = VFEllipseDetector()\n",
    "    ellipses = ellipse_detector.detect(image, image_edge)\n",
    "\n",
    "    print()\n",
    "    result = cv2.cvtColor(image, cv2.COLOR_GRAY2RGB)\n",
    "    for i, ellipse in enumerate(ellipses):\n",
    "        if i == 3:\n",
    "            break\n",
    "        print(ellipse.accuracy_score, end=\", \")\n",
    "        draw_ellipse(\n",
    "            result,\n",
    "            ellipse.center,\n",
    "            (ellipse.major_len, ellipse.minor_len),\n",
    "            ellipse.angle,\n",
    "            i,\n",
    "        )\n",
    "    return result\n",
    "\n",
    "\n",
    "ellipse_images = list(\n",
    "    map(very_fast_ellipse_detection_and_draw, blurred_images, main_edges)\n",
    ")"
   ]
  },
  {
   "cell_type": "code",
   "execution_count": null,
   "metadata": {},
   "outputs": [],
   "source": [
    "plot_multiple_images_with_original(ellipse_images)"
   ]
  },
  {
   "cell_type": "markdown",
   "metadata": {},
   "source": [
    "### Random Hough Ellipse - Original\n",
    "\n",
    "https://github.com/Po-Ting-lin/RandomizedHoughEllipseDetector\n"
   ]
  },
  {
   "cell_type": "code",
   "execution_count": null,
   "metadata": {},
   "outputs": [],
   "source": [
    "ed_info = RHTEllipseDetectorInfo(\n",
    "    MaxIter=1000,\n",
    "    LineFittingArea=7,\n",
    "    MajorAxisBound=(80, 350),\n",
    "    MinorAxisBound=(80, 350),\n",
    "    MaxFlattening=0.6,\n",
    "    SimilarCenterDist=5,\n",
    "    SimilarMajorAxisDist=10,\n",
    "    SimilarMinorAxisDist=10,\n",
    "    SimilarAngleDist=np.pi / 18,\n",
    ")\n",
    "\n",
    "\n",
    "def random_hough_ellipse_ori_and_draw(edge: NDArray) -> NDArray:\n",
    "    ellipse_detector = RHTEllipseDetector(ed_info, edge)\n",
    "    best_candidates = ellipse_detector.run()\n",
    "\n",
    "    print()\n",
    "    result = cv2.cvtColor(edge, cv2.COLOR_GRAY2RGB)\n",
    "    for i, cand in enumerate(best_candidates):\n",
    "        print(cand.score, end=\", \")\n",
    "        draw_ellipse(result, (cand.p, cand.q), (cand.a, cand.b), cand.angle, i)\n",
    "    return result\n",
    "\n",
    "\n",
    "ellipse_images = list(map(random_hough_ellipse_ori_and_draw, main_edges))"
   ]
  },
  {
   "cell_type": "code",
   "execution_count": null,
   "metadata": {},
   "outputs": [],
   "source": [
    "plot_multiple_images_with_original(ellipse_images)"
   ]
  },
  {
   "cell_type": "markdown",
   "metadata": {},
   "source": [
    "### Random Hough Ellipse - Optimized\n"
   ]
  },
  {
   "cell_type": "code",
   "execution_count": null,
   "metadata": {},
   "outputs": [],
   "source": [
    "compile_jit_functions()"
   ]
  },
  {
   "cell_type": "code",
   "execution_count": null,
   "metadata": {},
   "outputs": [],
   "source": [
    "def random_hough_ellipse_optimized_and_draw(edge: NDArray) -> NDArray:\n",
    "    best_candidates = random_hough_ellipse(\n",
    "        edge,\n",
    "        1000,\n",
    "        edge,\n",
    "        7,\n",
    "        20,\n",
    "        10,\n",
    "        10,\n",
    "        np.pi / 18,\n",
    "        (80, 350),\n",
    "        (80, 350),\n",
    "        0.6,\n",
    "        100000,\n",
    "        1000,\n",
    "        3,\n",
    "        100,\n",
    "    )\n",
    "\n",
    "    print()\n",
    "    result = cv2.cvtColor(edge, cv2.COLOR_GRAY2RGB)\n",
    "    for i, cand in enumerate(best_candidates):\n",
    "        print(cand[0], end=\", \")\n",
    "        draw_ellipse(result, (cand[1], cand[2]), (cand[3], cand[4]), cand[5], i)\n",
    "    return result\n",
    "\n",
    "\n",
    "ellipse_images = list(map(random_hough_ellipse_optimized_and_draw, main_edges))"
   ]
  },
  {
   "cell_type": "code",
   "execution_count": null,
   "metadata": {},
   "outputs": [],
   "source": [
    "plot_multiple_images_with_original(ellipse_images)"
   ]
  },
  {
   "cell_type": "markdown",
   "metadata": {},
   "source": [
    "# Evaluation\n"
   ]
  },
  {
   "cell_type": "markdown",
   "metadata": {},
   "source": [
    "## Functions\n"
   ]
  },
  {
   "cell_type": "markdown",
   "metadata": {},
   "source": [
    "### Ellipse\n"
   ]
  },
  {
   "cell_type": "code",
   "execution_count": null,
   "metadata": {},
   "outputs": [],
   "source": [
    "Ellipse = tuple[float, float, float, float, float]"
   ]
  },
  {
   "cell_type": "code",
   "execution_count": null,
   "metadata": {},
   "outputs": [],
   "source": [
    "def edge_ellipse_from_params(\n",
    "    ellipse: Ellipse, mask_shape: tuple[int, int] = (500, 500)\n",
    ") -> NDArray:\n",
    "    edge = np.zeros(mask_shape, dtype=np.uint8)\n",
    "    cv2.ellipse(\n",
    "        edge,\n",
    "        (int(ellipse[0]), int(ellipse[1])),\n",
    "        (int(ellipse[2]), int(ellipse[3])),\n",
    "        ellipse[4] * 180 / np.pi,\n",
    "        0,\n",
    "        360,\n",
    "        color=(1,),\n",
    "        thickness=1,\n",
    "    )\n",
    "    return edge == 1"
   ]
  },
  {
   "cell_type": "code",
   "execution_count": null,
   "metadata": {},
   "outputs": [],
   "source": [
    "def fill_ellipse_from_params(\n",
    "    ellipse: Ellipse, mask_shape: tuple[int, int] = (500, 500)\n",
    ") -> NDArray:\n",
    "    x = np.arange(0, mask_shape[1])\n",
    "    y = np.arange(0, mask_shape[0]).reshape(-1, 1)\n",
    "    term_1 = (\n",
    "        (x - ellipse[0]) * np.cos(ellipse[4]) + (y - ellipse[1]) * np.sin(ellipse[4])\n",
    "    ) ** 2\n",
    "    term_2 = (\n",
    "        (x - ellipse[0]) * np.sin(ellipse[4]) - (y - ellipse[1]) * np.cos(ellipse[4])\n",
    "    ) ** 2\n",
    "    combined_term = (term_1 / ellipse[2] ** 2) + (term_2 / ellipse[3] ** 2)\n",
    "    ellipse = combined_term <= 1\n",
    "    return ellipse  # type: ignore"
   ]
  },
  {
   "cell_type": "code",
   "execution_count": null,
   "metadata": {},
   "outputs": [],
   "source": [
    "def fill_ellipse_from_edge(edge: NDArray) -> NDArray:\n",
    "    out_fill = edge.copy()\n",
    "    cv2.floodFill(\n",
    "        out_fill,\n",
    "        np.zeros((out_fill.shape[0] + 2, out_fill.shape[1] + 2), np.uint8),\n",
    "        (0, 0),\n",
    "        1,  # type: ignore\n",
    "    )\n",
    "    in_fill = (edge == 1) | (out_fill == 0)\n",
    "    return in_fill"
   ]
  },
  {
   "cell_type": "code",
   "execution_count": null,
   "metadata": {},
   "outputs": [],
   "source": [
    "def ellipse_circumference(\n",
    "    ellipse: Ellipse, pixel_size: float, scale: float = 0.5\n",
    ") -> float:\n",
    "    # Ramanujan approximation\n",
    "    a, b = ellipse[2], ellipse[3]\n",
    "    return (\n",
    "        np.pi\n",
    "        * (3 * (a + b) - np.sqrt((3 * a + b) * (a + 3 * b)))\n",
    "        * pixel_size\n",
    "        * (1 / scale)\n",
    "    )"
   ]
  },
  {
   "cell_type": "markdown",
   "metadata": {},
   "source": [
    "### Segmentation Metrics\n"
   ]
  },
  {
   "cell_type": "code",
   "execution_count": null,
   "metadata": {},
   "outputs": [],
   "source": [
    "def hausdorff_distance(\n",
    "    true: NDArray, pred: NDArray, pixel_size: float, scale: float = 0.5\n",
    ") -> float:\n",
    "    return (\n",
    "        directed_hausdorff(np.argwhere(true), np.argwhere(pred))[0]\n",
    "        * pixel_size\n",
    "        * (1 / scale)\n",
    "    )"
   ]
  },
  {
   "cell_type": "code",
   "execution_count": null,
   "metadata": {},
   "outputs": [],
   "source": [
    "def iou(true: NDArray, pred: NDArray) -> float:\n",
    "    intersection = (true & pred).sum()\n",
    "    union = (true | pred).sum()\n",
    "    return intersection / union"
   ]
  },
  {
   "cell_type": "code",
   "execution_count": null,
   "metadata": {},
   "outputs": [],
   "source": [
    "def iou_to_dice(iou: float) -> float:\n",
    "    return 2 * iou / (1 + iou)"
   ]
  },
  {
   "cell_type": "markdown",
   "metadata": {},
   "source": [
    "### Batch Evaluation\n"
   ]
  },
  {
   "cell_type": "code",
   "execution_count": null,
   "metadata": {},
   "outputs": [],
   "source": [
    "def evaluate_ellipse_detections(\n",
    "    truth_data: pd.DataFrame,\n",
    "    true_ellipse_masks: list[NDArray],\n",
    "    pred_ellipse_params: list[Ellipse],\n",
    "    valid_indices: list[int],\n",
    ") -> pd.DataFrame:\n",
    "    result = []\n",
    "    for i, index in enumerate(valid_indices):\n",
    "        pixel_size = truth_data.loc[index, \"pixel_size\"].item()  # type: ignore\n",
    "\n",
    "        true_mask = downscale_image(true_ellipse_masks[i])\n",
    "        mask_shape = (true_mask.shape[0], true_mask.shape[1])\n",
    "        pred_mask = edge_ellipse_from_params(pred_ellipse_params[i], mask_shape)\n",
    "        hd_value = hausdorff_distance(true_mask, pred_mask, pixel_size)\n",
    "\n",
    "        true_mask_filled = fill_ellipse_from_edge(true_mask)\n",
    "        pred_mask_filled = fill_ellipse_from_params(pred_ellipse_params[i], mask_shape)\n",
    "        dice_score = iou_to_dice(iou(true_mask_filled, pred_mask_filled))\n",
    "\n",
    "        true_circumference = truth_data.loc[index, \"circumference\"].item()  # type: ignore\n",
    "        pred_circumference = ellipse_circumference(pred_ellipse_params[i], pixel_size)\n",
    "\n",
    "        result.append(\n",
    "            {\n",
    "                \"index\": index,\n",
    "                \"hd\": hd_value,\n",
    "                \"dice\": dice_score,\n",
    "                \"diff\": true_circumference - pred_circumference,\n",
    "                \"adiff\": abs(true_circumference - pred_circumference),\n",
    "            }\n",
    "        )\n",
    "    return pd.DataFrame(result)"
   ]
  },
  {
   "cell_type": "markdown",
   "metadata": {},
   "source": [
    "### Helper\n"
   ]
  },
  {
   "cell_type": "code",
   "execution_count": null,
   "metadata": {},
   "outputs": [],
   "source": [
    "def move_df_column(df: pd.DataFrame, old: int = -1, new: int = 0) -> pd.DataFrame:\n",
    "    cols = df.columns.to_list()\n",
    "    cols.insert(new, cols.pop(old))\n",
    "    return df[cols]"
   ]
  },
  {
   "cell_type": "markdown",
   "metadata": {},
   "source": [
    "## Processing Functions\n"
   ]
  },
  {
   "cell_type": "markdown",
   "metadata": {},
   "source": [
    "### Very Fast Ellipse Detection\n"
   ]
  },
  {
   "cell_type": "code",
   "execution_count": null,
   "metadata": {},
   "outputs": [],
   "source": [
    "def very_fast_ellipse_detection(\n",
    "    images: list[NDArray],\n",
    "    blur_k_size: int,\n",
    "    unused_border: int,\n",
    "    canny_quantile_1: float,\n",
    "    canny_quantile_2: float,\n",
    "    gaussian_k_size: int,\n",
    "    gaussian_sigma_x: int,\n",
    "    ellipse_straight_ratio_threshold: int,\n",
    "    ellipse_center_reject_distance: int,\n",
    "    ellipse_lying_threshold: float,\n",
    "    ellipse_identify_threshold: float,\n",
    ") -> list[Ellipse]:\n",
    "    ellipse_list: list[Ellipse] = []\n",
    "    for img in images:\n",
    "        resized = downscale_image(img)\n",
    "        blurred = cv2.medianBlur(resized, blur_k_size)\n",
    "        unused_edge = (\n",
    "            cv2.dilate(\n",
    "                cv2.Canny(\n",
    "                    update_image_value(blurred, blurred != 0, 255), 1, 1, None, 3\n",
    "                ),\n",
    "                np.ones((3, 3), np.uint8),\n",
    "            )\n",
    "            == 255\n",
    "        )\n",
    "        unused_edge = unused_edge | create_border_mask(\n",
    "            (blurred.shape[0], blurred.shape[1]), border=unused_border\n",
    "        )\n",
    "        main_edge = update_image_value(\n",
    "            cv2.Canny(\n",
    "                blurred,\n",
    "                quantile(blurred, canny_quantile_1),\n",
    "                quantile(blurred, canny_quantile_2),\n",
    "                None,\n",
    "                3,\n",
    "            ),\n",
    "            unused_edge,\n",
    "            0,\n",
    "        )\n",
    "        ellipse_detector = VFEllipseDetector(\n",
    "            gaussian_k_size=(gaussian_k_size, gaussian_k_size),\n",
    "            gaussian_sigma_x=gaussian_sigma_x,\n",
    "            straight_ratio_threshold=ellipse_straight_ratio_threshold,\n",
    "            ellipse_center_reject_distance=ellipse_center_reject_distance,\n",
    "            lying_threshold=ellipse_lying_threshold,\n",
    "            identify_threshold=ellipse_identify_threshold,\n",
    "        )\n",
    "        try:\n",
    "            ellipse = ellipse_detector.detect(blurred, main_edge)[0]\n",
    "        except Exception:\n",
    "            ellipse_list.append((0, 0, 0, 0, 0))\n",
    "            continue\n",
    "        ellipse_list.append(\n",
    "            (\n",
    "                ellipse.center[0],\n",
    "                ellipse.center[1],\n",
    "                ellipse.major_len,\n",
    "                ellipse.minor_len,\n",
    "                ellipse.angle,\n",
    "            )\n",
    "        )\n",
    "    return ellipse_list"
   ]
  },
  {
   "cell_type": "markdown",
   "metadata": {},
   "source": [
    "### Random Hough Ellipse - Original\n"
   ]
  },
  {
   "cell_type": "code",
   "execution_count": null,
   "metadata": {},
   "outputs": [],
   "source": [
    "def random_hough_ellipse_ori(\n",
    "    images: list[NDArray],\n",
    "    blur_k_size: int,\n",
    "    unused_border: int,\n",
    "    canny_quantile_1: float,\n",
    "    canny_quantile_2: float,\n",
    "    ellipse_max_iter: int,\n",
    "    ellipse_line_fitting_area: int,\n",
    "    ellipse_similar_center_dist: int,\n",
    "    ellipse_similar_axis_dist: int,\n",
    "    ellipse_similar_angle_dist: float,\n",
    ") -> list[Ellipse]:\n",
    "    ellipse_list: list[Ellipse] = []\n",
    "    for img in images:\n",
    "        resized = downscale_image(img)\n",
    "        blurred = cv2.medianBlur(resized, blur_k_size)\n",
    "        unused_edge = (\n",
    "            cv2.dilate(\n",
    "                cv2.Canny(\n",
    "                    update_image_value(blurred, blurred != 0, 255), 1, 1, None, 3\n",
    "                ),\n",
    "                np.ones((3, 3), np.uint8),\n",
    "            )\n",
    "            == 255\n",
    "        )\n",
    "        unused_edge = unused_edge | create_border_mask(\n",
    "            (blurred.shape[0], blurred.shape[1]), border=unused_border\n",
    "        )\n",
    "        main_edge = update_image_value(\n",
    "            cv2.Canny(\n",
    "                blurred,\n",
    "                quantile(blurred, canny_quantile_1),\n",
    "                quantile(blurred, canny_quantile_2),\n",
    "                None,\n",
    "                3,\n",
    "            ),\n",
    "            unused_edge,\n",
    "            0,\n",
    "        )\n",
    "        ellipse_detector_info = RHTEllipseDetectorInfo(\n",
    "            MaxIter=ellipse_max_iter,\n",
    "            LineFittingArea=ellipse_line_fitting_area,\n",
    "            MajorAxisBound=(80, 350),\n",
    "            MinorAxisBound=(80, 350),\n",
    "            MaxFlattening=0.6,\n",
    "            SimilarCenterDist=ellipse_similar_center_dist,\n",
    "            SimilarMajorAxisDist=ellipse_similar_axis_dist,\n",
    "            SimilarMinorAxisDist=ellipse_similar_axis_dist,\n",
    "            SimilarAngleDist=ellipse_similar_angle_dist,\n",
    "        )\n",
    "        ellipse_detector = RHTEllipseDetector(ellipse_detector_info, main_edge)\n",
    "        ellipse = ellipse_detector.run()[0]\n",
    "        ellipse_list.append((ellipse.p, ellipse.q, ellipse.a, ellipse.b, ellipse.angle))\n",
    "    return ellipse_list"
   ]
  },
  {
   "cell_type": "markdown",
   "metadata": {},
   "source": [
    "### Random Hough Ellipse - Optimized\n"
   ]
  },
  {
   "cell_type": "code",
   "execution_count": null,
   "metadata": {},
   "outputs": [],
   "source": [
    "def random_hough_ellipse_optimized(\n",
    "    images: list[NDArray],\n",
    "    blur_k_size: int,\n",
    "    unused_border: int,\n",
    "    canny_quantile_1: float,\n",
    "    canny_quantile_2: float,\n",
    "    ellipse_max_iter: int,\n",
    "    ellipse_line_fitting_area: int,\n",
    "    ellipse_similar_center_dist: int,\n",
    "    ellipse_similar_axis_dist: int,\n",
    "    ellipse_similar_angle_dist: float,\n",
    ") -> list[Ellipse]:\n",
    "    ellipse_list: list[Ellipse] = []\n",
    "    for img in images:\n",
    "        resized = downscale_image(img)\n",
    "        blurred = cv2.medianBlur(resized, blur_k_size)\n",
    "        unused_edge = (\n",
    "            cv2.dilate(\n",
    "                cv2.Canny(\n",
    "                    update_image_value(blurred, blurred != 0, 255), 1, 1, None, 3\n",
    "                ),\n",
    "                np.ones((3, 3), np.uint8),\n",
    "            )\n",
    "            == 255\n",
    "        )\n",
    "        unused_edge = unused_edge | create_border_mask(\n",
    "            (blurred.shape[0], blurred.shape[1]), border=unused_border\n",
    "        )\n",
    "        main_edge = update_image_value(\n",
    "            cv2.Canny(\n",
    "                blurred,\n",
    "                quantile(blurred, canny_quantile_1),\n",
    "                quantile(blurred, canny_quantile_2),\n",
    "                None,\n",
    "                3,\n",
    "            ),\n",
    "            unused_edge,\n",
    "            0,\n",
    "        )\n",
    "        ellipse = random_hough_ellipse(\n",
    "            main_edge,\n",
    "            ellipse_max_iter,\n",
    "            main_edge,\n",
    "            ellipse_line_fitting_area,\n",
    "            ellipse_similar_center_dist,\n",
    "            ellipse_similar_axis_dist,\n",
    "            ellipse_similar_axis_dist,\n",
    "            ellipse_similar_angle_dist,\n",
    "            (80, 350),\n",
    "            (80, 350),\n",
    "            0.6,\n",
    "            1000,\n",
    "            2000,\n",
    "            1,\n",
    "            100,\n",
    "        )[0]\n",
    "        ellipse_list.append(\n",
    "            (ellipse[1], ellipse[2], ellipse[3], ellipse[4], ellipse[5])\n",
    "        )\n",
    "    return ellipse_list"
   ]
  },
  {
   "cell_type": "markdown",
   "metadata": {},
   "source": [
    "## Evaluation Process\n"
   ]
  },
  {
   "cell_type": "code",
   "execution_count": null,
   "metadata": {},
   "outputs": [],
   "source": [
    "truth_data = get_truth_data()\n",
    "truth_data"
   ]
  },
  {
   "cell_type": "code",
   "execution_count": null,
   "metadata": {},
   "outputs": [],
   "source": [
    "valid_indices = get_valid_indices()\n",
    "len(valid_indices)"
   ]
  },
  {
   "cell_type": "code",
   "execution_count": null,
   "metadata": {},
   "outputs": [],
   "source": [
    "random.seed(0)\n",
    "random.shuffle(valid_indices)\n",
    "\n",
    "# test_indices = valid_indices[:200]\n",
    "tune_indices = valid_indices[:]\n",
    "\n",
    "# test_images, test_masks = load_images_masks(test_indices)\n",
    "tune_images, tune_masks = load_images_masks(tune_indices)"
   ]
  },
  {
   "cell_type": "code",
   "execution_count": null,
   "metadata": {},
   "outputs": [],
   "source": [
    "def detect_and_evaluate(\n",
    "    detection_func: Callable[..., list[Ellipse]],\n",
    "    parameter_grid: ParameterGrid,\n",
    "    name: str,\n",
    "    trial_slice: slice,\n",
    "):\n",
    "    random.seed(0)\n",
    "    len_pg = len(parameter_grid)\n",
    "    for i in random.sample(range(len_pg), len_pg)[trial_slice]:\n",
    "        kwargs = parameter_grid[i]\n",
    "\n",
    "        start_time = time.perf_counter()\n",
    "        tune_ellipses = detection_func(tune_images, **kwargs)\n",
    "        end_time = time.perf_counter()\n",
    "\n",
    "        result_df = evaluate_ellipse_detections(\n",
    "            truth_data, tune_masks, tune_ellipses, tune_indices\n",
    "        )\n",
    "        result_df[\"kwargs_index\"] = i\n",
    "        result_df = move_df_column(result_df)\n",
    "\n",
    "        summary_df = pd.DataFrame(\n",
    "            [\n",
    "                {\"index\": i}\n",
    "                | kwargs\n",
    "                | {\n",
    "                    \"num_data\": len(tune_indices),\n",
    "                    \"duration_mean\": (end_time - start_time) / len(tune_indices),\n",
    "                    \"hd_mean\": result_df[\"hd\"].mean(),\n",
    "                    \"hd_std\": result_df[\"hd\"].std(),\n",
    "                    \"dice_mean\": result_df[\"dice\"].mean(),\n",
    "                    \"dice_std\": result_df[\"dice\"].std(),\n",
    "                    \"diff_mean\": result_df[\"diff\"].mean(),\n",
    "                    \"diff_std\": result_df[\"diff\"].std(),\n",
    "                    \"adiff_mean\": result_df[\"adiff\"].mean(),\n",
    "                    \"adiff_std\": result_df[\"adiff\"].std(),\n",
    "                }\n",
    "            ]\n",
    "        )\n",
    "        summary_df.set_index(\"index\", inplace=True)\n",
    "\n",
    "        result_file = f\"{name}.csv\"\n",
    "        if not os.path.isfile(result_file):\n",
    "            result_df.to_csv(result_file, index=False)\n",
    "        else:\n",
    "            result_df.to_csv(result_file, mode=\"a\", header=False, index=False)\n",
    "\n",
    "        summary_file = f\"{name}_summary.csv\"\n",
    "        if not os.path.isfile(summary_file):\n",
    "            summary_df.to_csv(summary_file)\n",
    "        else:\n",
    "            summary_df.to_csv(summary_file, mode=\"a\", header=False)"
   ]
  },
  {
   "cell_type": "code",
   "execution_count": null,
   "metadata": {},
   "outputs": [],
   "source": [
    "# basic_params = {\n",
    "#     \"blur_k_size\": [5, 11, 17],\n",
    "#     \"unused_border\": [5],\n",
    "#     \"canny_quantile_1\": [0.7, 0.8, 0.9],\n",
    "#     \"canny_quantile_2\": [0.9, 0.95],\n",
    "# }\n",
    "\n",
    "# vfed_param_grid = ParameterGrid(\n",
    "#     basic_params\n",
    "#     | {\n",
    "#         \"gaussian_k_size\": [5, 11],\n",
    "#         \"gaussian_sigma_x\": [3, 5],\n",
    "#         \"ellipse_straight_ratio_threshold\": [10, 30, 50],\n",
    "#         \"ellipse_center_reject_distance\": [10, 30, 50, 70],\n",
    "#         \"ellipse_lying_threshold\": [0.1, 0.5],\n",
    "#         \"ellipse_identify_threshold\": [0.1, 0.3, 0.5],\n",
    "#     }\n",
    "# )\n",
    "\n",
    "# rhe_param_grid = ParameterGrid(\n",
    "#     basic_params\n",
    "#     | {\n",
    "#         \"ellipse_max_iter\": [1000, 5000, 10000],\n",
    "#         \"ellipse_line_fitting_area\": [7, 15],\n",
    "#         \"ellipse_similar_center_dist\": [10, 20],\n",
    "#         \"ellipse_similar_axis_dist\": [10, 20],\n",
    "#         \"ellipse_similar_angle_dist\": [np.pi / 18, np.pi / 9],\n",
    "#     }\n",
    "# )\n",
    "\n",
    "vfed_param_grid = ParameterGrid(\n",
    "    {\n",
    "        \"blur_k_size\": [11],\n",
    "        \"unused_border\": [5],\n",
    "        \"canny_quantile_1\": [0.7, 0.8],\n",
    "        \"canny_quantile_2\": [0.9, 0.95],\n",
    "        \"gaussian_k_size\": [5, 11],\n",
    "        \"gaussian_sigma_x\": [3],\n",
    "        \"ellipse_straight_ratio_threshold\": [30, 50],\n",
    "        \"ellipse_center_reject_distance\": [70],\n",
    "        \"ellipse_lying_threshold\": [0.1, 0.5],\n",
    "        \"ellipse_identify_threshold\": [0.5],\n",
    "    }\n",
    ")\n",
    "\n",
    "rhe_param_grid = ParameterGrid(\n",
    "    {\n",
    "        \"blur_k_size\": [11],\n",
    "        \"unused_border\": [5],\n",
    "        \"canny_quantile_1\": [0.8, 0.9],\n",
    "        \"canny_quantile_2\": [0.9, 0.95],\n",
    "        \"ellipse_max_iter\": [5000, 10000],\n",
    "        \"ellipse_line_fitting_area\": [7],\n",
    "        \"ellipse_similar_center_dist\": [20],\n",
    "        \"ellipse_similar_axis_dist\": [10],\n",
    "        \"ellipse_similar_angle_dist\": [np.pi / 18, np.pi / 9],\n",
    "    }\n",
    ")"
   ]
  },
  {
   "cell_type": "code",
   "execution_count": null,
   "metadata": {},
   "outputs": [],
   "source": [
    "warnings.filterwarnings(\"ignore\")\n",
    "detect_and_evaluate(very_fast_ellipse_detection, vfed_param_grid, \"vfed\", slice(0, 50))\n",
    "warnings.filterwarnings(\"default\")\n",
    "\n",
    "# 982m"
   ]
  },
  {
   "cell_type": "code",
   "execution_count": null,
   "metadata": {},
   "outputs": [],
   "source": [
    "detect_and_evaluate(random_hough_ellipse_ori, rhe_param_grid, \"rhe_ori\", slice(0, 50))\n",
    "\n",
    "# 767m"
   ]
  },
  {
   "cell_type": "code",
   "execution_count": null,
   "metadata": {},
   "outputs": [],
   "source": [
    "detect_and_evaluate(\n",
    "    random_hough_ellipse_optimized, rhe_param_grid, \"rhe_opt\", slice(0, 50)\n",
    ")\n",
    "\n",
    "# 120m"
   ]
  },
  {
   "cell_type": "markdown",
   "metadata": {},
   "source": [
    "## Time and Memory Evaluation\n"
   ]
  },
  {
   "cell_type": "code",
   "execution_count": null,
   "metadata": {},
   "outputs": [],
   "source": [
    "iters = [100, 1000, 5000, 10000, 15000, 20000, 25000, 30000]\n",
    "\n",
    "kwargs = {\n",
    "    \"unused_border\": 5,\n",
    "    \"ellipse_similar_center_dist\": 20,\n",
    "    \"ellipse_similar_axis_dist\": 10,\n",
    "    \"ellipse_similar_angle_dist\": 0.349,\n",
    "    \"ellipse_line_fitting_area\": 7,\n",
    "    \"canny_quantile_2\": 0.95,\n",
    "    \"canny_quantile_1\": 0.9,\n",
    "    \"blur_k_size\": 11,\n",
    "}"
   ]
  },
  {
   "cell_type": "code",
   "execution_count": null,
   "metadata": {},
   "outputs": [],
   "source": [
    "start = time.perf_counter()\n",
    "\n",
    "compile_jit_functions()\n",
    "\n",
    "time.perf_counter() - start"
   ]
  },
  {
   "cell_type": "code",
   "execution_count": null,
   "metadata": {},
   "outputs": [],
   "source": [
    "ori_times = []\n",
    "for iter in iters:\n",
    "    start_time = time.perf_counter()\n",
    "    tune_ellipses = random_hough_ellipse_ori(\n",
    "        tune_images[:10], **(kwargs | {\"ellipse_max_iter\": iter})\n",
    "    )\n",
    "    ori_times.append((time.perf_counter() - start_time) / 10)\n",
    "\n",
    "opt_times = []\n",
    "for iter in iters:\n",
    "    start_time = time.perf_counter()\n",
    "    tune_ellipses = random_hough_ellipse_optimized(\n",
    "        tune_images[:10], **(kwargs | {\"ellipse_max_iter\": iter})\n",
    "    )\n",
    "    opt_times.append((time.perf_counter() - start_time) / 10)\n",
    "\n",
    "print(ori_times)\n",
    "print()\n",
    "print(opt_times)"
   ]
  },
  {
   "cell_type": "code",
   "execution_count": null,
   "metadata": {},
   "outputs": [],
   "source": [
    "ori_times = [\n",
    "    0.09155316001269967,\n",
    "    0.5396712900139391,\n",
    "    2.6480242100078613,\n",
    "    5.029666600003838,\n",
    "    7.610079020005651,\n",
    "    10.35959749999456,\n",
    "    12.985094760009087,\n",
    "    15.507335970015266,\n",
    "]\n",
    "\n",
    "opt_times = [\n",
    "    0.034731719992123544,\n",
    "    0.08878443001303822,\n",
    "    0.29274345000740143,\n",
    "    0.5003274300135672,\n",
    "    0.6490047400118784,\n",
    "    0.6741446000058204,\n",
    "    0.6686791900079697,\n",
    "    0.6703175900038332,\n",
    "]\n"
   ]
  },
  {
   "cell_type": "code",
   "execution_count": null,
   "metadata": {},
   "outputs": [],
   "source": [
    "tracemalloc.start()"
   ]
  },
  {
   "cell_type": "code",
   "execution_count": null,
   "metadata": {},
   "outputs": [],
   "source": [
    "tracemalloc.reset_peak()\n",
    "start, _ = tracemalloc.get_traced_memory()\n",
    "\n",
    "compile_jit_functions()\n",
    "\n",
    "end, _ = tracemalloc.get_traced_memory()\n",
    "end - start"
   ]
  },
  {
   "cell_type": "code",
   "execution_count": null,
   "metadata": {},
   "outputs": [],
   "source": [
    "ori_memories = []\n",
    "\n",
    "random_hough_ellipse_ori(tune_images[:1], **(kwargs | {\"ellipse_max_iter\": 1000}))\n",
    "\n",
    "for iter in iters:\n",
    "    memory_usages = []\n",
    "    kwargs[\"ellipse_max_iter\"] = iter\n",
    "\n",
    "    for i in range(10):\n",
    "        tracemalloc.reset_peak()\n",
    "        start, _ = tracemalloc.get_traced_memory()\n",
    "\n",
    "        random_hough_ellipse_ori(\n",
    "            tune_images[i : i + 1], **(kwargs | {\"ellipse_max_iter\": iter})\n",
    "        )\n",
    "\n",
    "        _, end = tracemalloc.get_traced_memory()\n",
    "        memory_usages.append(end - start)\n",
    "\n",
    "    ori_memories.append(sum(memory_usages) / len(memory_usages) / 1000)\n",
    "\n",
    "ori_memories"
   ]
  },
  {
   "cell_type": "code",
   "execution_count": null,
   "metadata": {},
   "outputs": [],
   "source": [
    "opt_memories = []\n",
    "\n",
    "random_hough_ellipse_optimized(tune_images[:1], **(kwargs | {\"ellipse_max_iter\": 1000}))\n",
    "\n",
    "for iter in iters:\n",
    "    memory_usages = []\n",
    "\n",
    "    for i in range(10):\n",
    "        tracemalloc.reset_peak()\n",
    "        start, _ = tracemalloc.get_traced_memory()\n",
    "\n",
    "        random_hough_ellipse_optimized(\n",
    "            tune_images[i : i + 1], **(kwargs | {\"ellipse_max_iter\": iter})\n",
    "        )\n",
    "\n",
    "        _, end = tracemalloc.get_traced_memory()\n",
    "        memory_usages.append(end - start)\n",
    "\n",
    "    opt_memories.append(sum(memory_usages) / len(memory_usages) / 1000)\n",
    "\n",
    "opt_memories"
   ]
  },
  {
   "cell_type": "code",
   "execution_count": null,
   "metadata": {},
   "outputs": [],
   "source": [
    "ori_memories = [\n",
    "    1492.0021000000002,\n",
    "    1506.0023999999999,\n",
    "    1539.8454,\n",
    "    1571.0932,\n",
    "    1593.6758,\n",
    "    1614.0096,\n",
    "    1629.643,\n",
    "    1644.7078000000001,\n",
    "]\n",
    "\n",
    "opt_memories = [\n",
    "    757.0189399999999,\n",
    "    756.9784000000001,\n",
    "    756.97054,\n",
    "    756.98364,\n",
    "    756.98682,\n",
    "    756.98492,\n",
    "    756.97054,\n",
    "    756.97054,\n",
    "]\n"
   ]
  },
  {
   "cell_type": "code",
   "execution_count": null,
   "metadata": {},
   "outputs": [],
   "source": [
    "fig, ax1 = plt.subplots()\n",
    "\n",
    "color = \"blue\"\n",
    "ax1.set_xlabel(\"iterations\")\n",
    "ax1.set_ylabel(\"time (s)\", color=color)\n",
    "ax1.set_ylim(0, 18)\n",
    "ax1.plot(iters, ori_times, \"ko--\", iters, opt_times, \"ko-\")\n",
    "ax1.tick_params(axis=\"y\", labelcolor=color)\n",
    "\n",
    "ax2 = ax1.twinx()\n",
    "\n",
    "color = \"red\"\n",
    "ax2.set_ylabel(\"memory (kB)\", color=color)\n",
    "ax2.set_ylim(0, 1800)\n",
    "ax2.plot(iters, ori_memories, \"ro--\", iters, opt_memories, \"ro-\")\n",
    "ax2.tick_params(axis=\"y\", labelcolor=color)\n",
    "\n",
    "fig.tight_layout()\n",
    "plt.show()"
   ]
  },
  {
   "cell_type": "markdown",
   "metadata": {},
   "source": [
    "# Other\n"
   ]
  },
  {
   "cell_type": "markdown",
   "metadata": {},
   "source": [
    "## Ellipse Out of Mask\n"
   ]
  },
  {
   "cell_type": "code",
   "execution_count": null,
   "metadata": {},
   "outputs": [],
   "source": [
    "# import time\n",
    "\n",
    "# import cv2\n",
    "# import numpy as np\n",
    "# from numba import njit\n",
    "\n",
    "# mask_shape = (270, 400)\n",
    "# center = (225, 155)\n",
    "# axis = (111, 88)\n",
    "# angle = 0.253\n",
    "\n",
    "# num_iter = 0\n",
    "\n",
    "\n",
    "# def ellipse_out_of_mask_cv(\n",
    "#     mask_shape: tuple[int, int],\n",
    "#     center: tuple[int, int],\n",
    "#     axis: tuple[int, int],\n",
    "#     angle: float,\n",
    "# ):\n",
    "#     larger_shape = (mask_shape[0] + 2, mask_shape[1] + 2)\n",
    "#     ref_mask = np.ones(larger_shape, dtype=np.uint8)\n",
    "#     ref_mask[0, :] = ref_mask[-1, :] = ref_mask[:, 0] = ref_mask[:, -1] = 0\n",
    "\n",
    "#     ellipse, out_of_mask = np.zeros_like(ref_mask), np.zeros_like(ref_mask)\n",
    "#     cv2.ellipse(\n",
    "#         ellipse, center, axis, angle * 180 / np.pi, 0, 360, color=(255,), thickness=1\n",
    "#     )\n",
    "\n",
    "#     out_of_mask[(ellipse == 255) & (ref_mask == 0)] = 1\n",
    "\n",
    "#     return np.sum(out_of_mask) > 0\n",
    "\n",
    "\n",
    "# print(\"CV2 Check\", ellipse_out_of_mask_cv(mask_shape, center, axis, angle))\n",
    "\n",
    "\n",
    "# start = time.perf_counter()\n",
    "# for _ in range(num_iter):\n",
    "#     ellipse_out_of_mask_cv(mask_shape, center, axis, angle)\n",
    "# print(\"CV2 Time\", time.perf_counter() - start)\n",
    "\n",
    "\n",
    "# @njit\n",
    "# def ellipse_out_of_mask(\n",
    "#     mask_shape: tuple[int, int],\n",
    "#     center: tuple[int, int],\n",
    "#     axis: tuple[int, int],\n",
    "#     angle: float,\n",
    "# ):\n",
    "#     larger_shape = (mask_shape[0] + 1, mask_shape[1] + 1)\n",
    "#     ref_mask = np.zeros(larger_shape, dtype=np.uint8)\n",
    "#     ref_mask[0, :] = ref_mask[-1, :] = ref_mask[:, 0] = ref_mask[:, -1] = 1\n",
    "\n",
    "#     x = np.arange(0, larger_shape[0])\n",
    "#     y = np.arange(0, larger_shape[1]).reshape(-1, 1)\n",
    "#     term_1 = (\n",
    "#         ref_mask\n",
    "#         * ((x - center[0]) * np.cos(angle) + (y - center[1]) * np.sin(angle)) ** 2\n",
    "#     )\n",
    "#     term_2 = (\n",
    "#         ref_mask\n",
    "#         * ((x - center[0]) * np.sin(angle) - (y - center[1]) * np.cos(angle)) ** 2\n",
    "#     )\n",
    "#     combined_term = (term_1 / axis[0] ** 2) + (term_2 / axis[1] ** 2)\n",
    "#     ellipse = (combined_term != 0) & (combined_term <= 1)\n",
    "\n",
    "#     return np.count_nonzero(ellipse) > 0\n",
    "\n",
    "\n",
    "# start = time.perf_counter()\n",
    "# print(\"NumPy Check\", ellipse_out_of_mask(mask_shape, center, axis, angle))\n",
    "# print(\"NumPy Compile Time\", time.perf_counter() - start)\n",
    "\n",
    "# start = time.perf_counter()\n",
    "# for _ in range(num_iter):\n",
    "#     ellipse_out_of_mask(mask_shape, center, axis, angle)\n",
    "# print(\"NumPy Time\", time.perf_counter() - start)\n",
    "\n",
    "\n",
    "# @njit\n",
    "# def ellipse_out_of_mask_fast(\n",
    "#     mask_shape: tuple[int, int],\n",
    "#     center: tuple[int, int],\n",
    "#     axis: tuple[int, int],\n",
    "#     angle: float,\n",
    "#     num_points: int = 50,\n",
    "# ):\n",
    "#     thetas = np.linspace(0, 2 * np.pi, num_points) - angle\n",
    "#     tan_thetas = np.tan(thetas)\n",
    "\n",
    "#     x_values = (\n",
    "#         np.where((thetas > np.pi / 2) & (thetas < 3 * np.pi / 2), -1, 1)\n",
    "#         * axis[0]\n",
    "#         * axis[1]\n",
    "#         / (np.sqrt(axis[1] ** 2 + (axis[0] ** 2) * np.square(tan_thetas)))\n",
    "#     )\n",
    "\n",
    "#     rotation_matrix = np.array(\n",
    "#         [[-np.sin(angle), np.cos(angle)], [np.cos(angle), np.sin(angle)]]\n",
    "#     )\n",
    "\n",
    "#     coordinates = np.dot(\n",
    "#         rotation_matrix, np.vstack((x_values * tan_thetas, x_values))\n",
    "#     ) + np.array(center).reshape(-1, 1)\n",
    "\n",
    "#     return np.any(\n",
    "#         (coordinates < -1)\n",
    "#         | (coordinates > np.array((mask_shape[1], mask_shape[0])).reshape(-1, 1))\n",
    "#     )\n",
    "\n",
    "\n",
    "# start = time.perf_counter()\n",
    "# print(\n",
    "#     \"NumPy-Fast Check\",\n",
    "#     ellipse_out_of_mask_fast(mask_shape, center, axis, angle),\n",
    "# )\n",
    "# print(\"NumPy-Fast Compile Time\", time.perf_counter() - start)\n",
    "\n",
    "# start = time.perf_counter()\n",
    "# for _ in range(num_iter):\n",
    "#     ellipse_out_of_mask_fast(mask_shape, center, axis, angle)\n",
    "# print(\"NumPy-Fast Time\", time.perf_counter() - start)\n",
    "\n"
   ]
  },
  {
   "cell_type": "markdown",
   "metadata": {},
   "source": [
    "## Thresholding\n"
   ]
  },
  {
   "cell_type": "code",
   "execution_count": null,
   "metadata": {},
   "outputs": [],
   "source": [
    "# hist = cv2.calcHist(\n",
    "#     [blurred_images[8]],\n",
    "#     [0],\n",
    "#     (blurred_images[8] > 40).astype(np.uint8),  # type: ignore\n",
    "#     [256],\n",
    "#     [0, 256],\n",
    "# )\n",
    "# plt.plot(hist)\n",
    "\n"
   ]
  },
  {
   "cell_type": "code",
   "execution_count": null,
   "metadata": {},
   "outputs": [],
   "source": [
    "# thresholded_images = list(\n",
    "#     map(\n",
    "#         lambda x: cv2.adaptiveThreshold(\n",
    "#             x, 255, cv2.ADAPTIVE_THRESH_MEAN_C, cv2.THRESH_BINARY, 401, -40\n",
    "#         ),\n",
    "#         blurred_images,\n",
    "#     )\n",
    "# )\n",
    "\n"
   ]
  },
  {
   "cell_type": "code",
   "execution_count": null,
   "metadata": {},
   "outputs": [],
   "source": [
    "# def dynamic_threshold(image: NDArray) -> NDArray:\n",
    "#     count_ref = np.count_nonzero(image) * 0.2\n",
    "#     threshold_ref = np.sort(np.array(image).flatten())[-int(count_ref / 2)]\n",
    "#     return np.where(image > threshold_ref, image, 0)\n",
    "\n",
    "\n",
    "# thresholded_images = list(map(dynamic_threshold, blurred_images))\n",
    "\n"
   ]
  },
  {
   "cell_type": "markdown",
   "metadata": {},
   "source": [
    "## Hough Circle\n"
   ]
  },
  {
   "cell_type": "code",
   "execution_count": null,
   "metadata": {},
   "outputs": [],
   "source": [
    "# def hough_circle_and_draw(image: NDArray) -> NDArray:\n",
    "#     circles = cv2.HoughCircles(\n",
    "#         image, cv2.HOUGH_GRADIENT, 1, 10, param1=50, param2=50, minRadius=30\n",
    "#     )\n",
    "#     image_circle = image.copy()\n",
    "#     if circles is not None:\n",
    "#         circles = np.around(circles).astype(np.uint16)  # type: ignore\n",
    "#         for i, circle in enumerate(circles[0, :]):\n",
    "#             if i == 5:\n",
    "#                 break\n",
    "#             cv2.circle(\n",
    "#                 image_circle, (circle[0], circle[1]), circle[2], (255, 255, 255), 1\n",
    "#             )\n",
    "#     return image_circle\n",
    "\n",
    "\n",
    "# circle_images = list(map(hough_circle_and_draw, blurred_images[:1]))"
   ]
  }
 ],
 "metadata": {
  "kernelspec": {
   "display_name": "base",
   "language": "python",
   "name": "python3"
  },
  "language_info": {
   "codemirror_mode": {
    "name": "ipython",
    "version": 3
   },
   "file_extension": ".py",
   "mimetype": "text/x-python",
   "name": "python",
   "nbconvert_exporter": "python",
   "pygments_lexer": "ipython3",
   "version": "3.10.9"
  }
 },
 "nbformat": 4,
 "nbformat_minor": 2
}
